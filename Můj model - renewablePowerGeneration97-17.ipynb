{
 "cells": [
  {
   "cell_type": "code",
   "execution_count": 2,
   "metadata": {},
   "outputs": [],
   "source": [
    "import pandas as pd\n",
    "import numpy as np\n",
    "from sklearn.model_selection import train_test_split\n",
    "from sklearn.linear_model import LinearRegression\n",
    "from sklearn.preprocessing import StandardScaler\n",
    "from sklearn.metrics import mean_squared_error, r2_score"
   ]
  },
  {
   "cell_type": "code",
   "execution_count": 1,
   "metadata": {},
   "outputs": [
    {
     "name": "stderr",
     "output_type": "stream",
     "text": [
      "d:\\Datový analitik\\Moje příklady\\.venv\\Lib\\site-packages\\tqdm\\auto.py:21: TqdmWarning: IProgress not found. Please update jupyter and ipywidgets. See https://ipywidgets.readthedocs.io/en/stable/user_install.html\n",
      "  from .autonotebook import tqdm as notebook_tqdm\n"
     ]
    },
    {
     "name": "stdout",
     "output_type": "stream",
     "text": [
      "Downloading from https://www.kaggle.com/api/v1/datasets/download/jamesvandenberg/renewable-power-generation?dataset_version_number=2...\n"
     ]
    },
    {
     "name": "stderr",
     "output_type": "stream",
     "text": [
      "100%|██████████| 6.93k/6.93k [00:00<00:00, 3.77MB/s]"
     ]
    },
    {
     "name": "stdout",
     "output_type": "stream",
     "text": [
      "Extracting files...\n",
      "Path to dataset files: C:\\Users\\valou\\.cache\\kagglehub\\datasets\\jamesvandenberg\\renewable-power-generation\\versions\\2\n"
     ]
    },
    {
     "name": "stderr",
     "output_type": "stream",
     "text": [
      "\n"
     ]
    }
   ],
   "source": [
    "import kagglehub\n",
    "\n",
    "# Download latest version\n",
    "path = kagglehub.dataset_download(\"jamesvandenberg/renewable-power-generation\")\n",
    "\n",
    "print(\"Path to dataset files:\", path)"
   ]
  },
  {
   "cell_type": "code",
   "execution_count": 22,
   "metadata": {},
   "outputs": [
    {
     "name": "stdout",
     "output_type": "stream",
     "text": [
      "    Year  Hydro(TWh)  Biofuel(TWh)  Solar PV (TWh)  Geothermal (TWh)   China  \\\n",
      "0   1990     2191.67          3.88            0.09             36.42   874.0   \n",
      "1   1991     2268.63          4.19            0.10             37.39   848.0   \n",
      "2   1992     2267.16          4.63            0.12             39.30   877.0   \n",
      "3   1993     2397.67          5.61            0.15             40.23   929.0   \n",
      "4   1994     2419.73          7.31            0.17             41.05   973.0   \n",
      "5   1995     2545.96          7.95            0.19             39.89  1045.0   \n",
      "6   1996     2583.18          9.45            0.22             42.18  1074.0   \n",
      "7   1997     2614.54         12.08            0.27             42.38  1073.0   \n",
      "8   1998     2628.63         16.07            0.35             45.35  1079.0   \n",
      "9   1999     2636.26         21.52            0.61             48.66  1099.0   \n",
      "10  2000     2695.85         31.34            0.99             51.98  1130.0   \n",
      "11  2001     2638.20         38.45            1.32             51.57  1168.0   \n",
      "12  2002     2711.12         52.85            1.58             52.29  1246.0   \n",
      "13  2003     2726.33         64.23            2.01             54.09  1420.0   \n",
      "14  2004     2894.22         84.43            2.66             56.50  1615.0   \n",
      "15  2005     3019.50        103.92            3.92             58.28  1782.0   \n",
      "16  2006     3124.34        133.05            5.52             59.61  1950.0   \n",
      "17  2007     3165.71        170.83            7.47             62.29  2099.0   \n",
      "18  2008     3285.59        221.05           11.92             64.91  2155.0   \n",
      "19  2009     3338.82        277.44           20.04             67.03  2297.0   \n",
      "20  2010     3530.72        341.38           32.22             68.10  2536.0   \n",
      "21  2011     2603.78        436.01           63.76             69.29  2723.0   \n",
      "22  2012     3765.96        525.04           99.03             70.27  2821.0   \n",
      "23  2013     2898.28        646.36          139.64             71.74  2912.0   \n",
      "24  2014     3976.01        718.07          190.25             77.52  2966.0   \n",
      "25  2015     3989.28        838.31          250.75             80.56  2994.0   \n",
      "26  2016     4162.26        958.15          329.14             82.18  2977.0   \n",
      "27  2017     4197.29       1127.31          443.55             85.34  3070.0   \n",
      "\n",
      "    United States  Brazil  Belgium  Czechia  ...  Australia  New Zealand  \\\n",
      "0          1910.0   141.0     48.0     50.0  ...       86.0         14.0   \n",
      "1          1925.0   143.0     50.0     45.0  ...       85.0         14.0   \n",
      "2          1964.0   145.0     51.0     44.0  ...       87.0         14.0   \n",
      "3          1998.0   148.0     49.0     43.0  ...       91.0         15.0   \n",
      "4          2036.0   156.0     52.0     41.0  ...       91.0         15.0   \n",
      "5          2063.0   162.0     53.0     42.0  ...       93.0         15.0   \n",
      "6          2108.0   170.0     56.0     43.0  ...       99.0         16.0   \n",
      "7          2130.0   179.0     56.0     43.0  ...      101.0         16.0   \n",
      "8          2148.0   183.0     57.0     42.0  ...      104.0         16.0   \n",
      "9          2206.0   187.0     57.0     39.0  ...      106.0         17.0   \n",
      "10         2269.0   188.0     58.0     41.0  ...      108.0         17.0   \n",
      "11         2226.0   191.0     58.0     42.0  ...      106.0         17.0   \n",
      "12         2256.0   196.0     56.0     43.0  ...      109.0         17.0   \n",
      "13         2262.0   199.0     58.0     45.0  ...      111.0         17.0   \n",
      "14         2308.0   211.0     58.0     46.0  ...      113.0         18.0   \n",
      "15         2320.0   216.0     58.0     45.0  ...      113.0         17.0   \n",
      "16         2298.0   224.0     57.0     46.0  ...      118.0         17.0   \n",
      "17         2338.0   236.0     56.0     46.0  ...      121.0         17.0   \n",
      "18         2278.0   250.0     58.0     45.0  ...      126.0         18.0   \n",
      "19         2165.0   242.0     56.0     43.0  ...      126.0         18.0   \n",
      "20         2217.0   267.0     60.0     45.0  ...      126.0         19.0   \n",
      "21         2191.0   271.0     56.0     43.0  ...      127.0         18.0   \n",
      "22         2152.0   282.0     53.0     43.0  ...      126.0         19.0   \n",
      "23         2190.0   294.0     56.0     43.0  ...      127.0         19.0   \n",
      "24         2216.0   303.0     53.0     42.0  ...      127.0         21.0   \n",
      "25         2192.0   297.0     52.0     42.0  ...      127.0         21.0   \n",
      "26         2168.0   287.0     56.0     41.0  ...      127.0         21.0   \n",
      "27         2161.0   292.0     55.0     43.0  ...      128.0         21.0   \n",
      "\n",
      "    Algeria  Egypt  Nigeria  South Africa   Iran  Kuwait  Saudi Arabia  \\\n",
      "0      22.0   33.0     66.0          90.0   69.0     9.0          58.0   \n",
      "1      23.0   33.0     70.0          92.0   77.0     3.0          68.0   \n",
      "2      24.0   34.0     72.0          88.0   81.0     9.0          77.0   \n",
      "3      24.0   35.0     74.0          94.0   87.0    12.0          80.0   \n",
      "4      23.0   34.0     72.0          98.0   97.0    14.0          84.0   \n",
      "5      24.0   36.0     73.0         104.0  101.0    15.0          85.0   \n",
      "6      23.0   38.0     76.0         107.0   98.0    14.0          90.0   \n",
      "7      24.0   40.0     79.0         109.0  109.0    15.0          86.0   \n",
      "8      25.0   42.0     80.0         111.0  111.0    17.0          92.0   \n",
      "9      27.0   43.0     83.0         109.0  126.0    18.0          94.0   \n",
      "10     27.0   41.0     87.0         109.0  123.0    19.0          98.0   \n",
      "11     27.0   47.0     91.0         105.0  133.0    20.0         100.0   \n",
      "12     29.0   48.0     94.0         100.0  138.0    20.0         114.0   \n",
      "13     31.0   50.0     98.0         113.0  143.0    21.0         115.0   \n",
      "14     31.0   54.0     99.0         123.0  156.0    24.0         115.0   \n",
      "15     32.0   62.0    105.0         118.0  173.0    27.0         123.0   \n",
      "16     35.0   66.0    106.0         120.0  180.0    25.0         132.0   \n",
      "17     37.0   70.0    110.0         131.0  191.0    25.0         138.0   \n",
      "18     37.0   73.0    113.0         142.0  205.0    28.0         151.0   \n",
      "19     41.0   75.0    111.0         144.0  204.0    29.0         159.0   \n",
      "20     42.0   74.0    127.0         134.0  204.0    29.0         175.0   \n",
      "21     43.0   77.0    139.0         137.0  208.0    28.0         184.0   \n",
      "22     47.0   79.0    140.0         131.0  218.0    29.0         189.0   \n",
      "23     49.0   78.0    143.0         130.0  222.0    30.0         188.0   \n",
      "24     54.0   80.0    147.0         138.0  238.0    27.0         207.0   \n",
      "25     56.0   81.0    145.0         129.0  238.0    33.0         216.0   \n",
      "26     56.0   88.0    150.0         135.0  246.0    36.0         215.0   \n",
      "27     57.0   93.0    152.0         136.0  262.0    34.0         219.0   \n",
      "\n",
      "    United Arab Emirates  \n",
      "0                   20.0  \n",
      "1                   23.0  \n",
      "2                   22.0  \n",
      "3                   23.0  \n",
      "4                   26.0  \n",
      "5                   28.0  \n",
      "6                   29.0  \n",
      "7                   31.0  \n",
      "8                   32.0  \n",
      "9                   32.0  \n",
      "10                  31.0  \n",
      "11                  40.0  \n",
      "12                  39.0  \n",
      "13                  38.0  \n",
      "14                  42.0  \n",
      "15                  44.0  \n",
      "16                  46.0  \n",
      "17                  50.0  \n",
      "18                  59.0  \n",
      "19                  64.0  \n",
      "20                  61.0  \n",
      "21                  60.0  \n",
      "22                  64.0  \n",
      "23                  68.0  \n",
      "24                  74.0  \n",
      "25                  76.0  \n",
      "26                  79.0  \n",
      "27                  78.0  \n",
      "\n",
      "[28 rows x 49 columns]\n"
     ]
    }
   ],
   "source": [
    "data1 = pd.read_csv('renewablePowerGeneration97-17.csv')\n",
    "data2 = pd.read_csv('Country_Consumption_TWH.csv')\n",
    "\n",
    "merged_data = pd.merge(data1, data2, on = 'Year')\n",
    "\n",
    "print(merged_data)"
   ]
  }
 ],
 "metadata": {
  "kernelspec": {
   "display_name": ".venv",
   "language": "python",
   "name": "python3"
  },
  "language_info": {
   "codemirror_mode": {
    "name": "ipython",
    "version": 3
   },
   "file_extension": ".py",
   "mimetype": "text/x-python",
   "name": "python",
   "nbconvert_exporter": "python",
   "pygments_lexer": "ipython3",
   "version": "3.13.0"
  }
 },
 "nbformat": 4,
 "nbformat_minor": 2
}
